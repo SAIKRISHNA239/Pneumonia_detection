{
  "nbformat": 4,
  "nbformat_minor": 0,
  "metadata": {
    "colab": {
      "provenance": [],
      "gpuType": "T4",
      "authorship_tag": "ABX9TyNvQ4M9IxIodgVbEEMa5vXR",
      "include_colab_link": true
    },
    "kernelspec": {
      "name": "python3",
      "display_name": "Python 3"
    },
    "language_info": {
      "name": "python"
    },
    "accelerator": "GPU"
  },
  "cells": [
    {
      "cell_type": "markdown",
      "metadata": {
        "id": "view-in-github",
        "colab_type": "text"
      },
      "source": [
        "<a href=\"https://colab.research.google.com/github/SAIKRISHNA239/Pneumonia_detection/blob/main/pneumonia.ipynb\" target=\"_parent\"><img src=\"https://colab.research.google.com/assets/colab-badge.svg\" alt=\"Open In Colab\"/></a>"
      ]
    },
    {
      "cell_type": "code",
      "execution_count": 2,
      "metadata": {
        "id": "u1-Y3Jff7FsW",
        "colab": {
          "base_uri": "https://localhost:8080/"
        },
        "outputId": "e9b07696-35eb-413f-fb8b-f95a1ca8d8b8"
      },
      "outputs": [
        {
          "output_type": "stream",
          "name": "stdout",
          "text": [
            "Mounted at /content/drive\n"
          ]
        }
      ],
      "source": [
        "from google.colab import drive\n",
        "drive.mount('/content/drive')"
      ]
    },
    {
      "cell_type": "code",
      "source": [
        "import numpy as np\n",
        "import torch\n",
        "import torch.nn as nn\n",
        "import torch.optim as optim\n",
        "from torch.utils.data import DataLoader, random_split\n",
        "from torchvision import transforms\n",
        "from torchvision import transforms\n",
        "from tensorflow.keras.applications import ResNet50, InceptionV3, VGG16, VGG19, EfficientNetB0\n",
        "from tensorflow.keras.preprocessing.image import ImageDataGenerator\n",
        "from sklearn.metrics import accuracy_score, precision_score, recall_score, f1_score\n",
        "from PIL import Image\n",
        "import os\n",
        "import glob\n",
        "import cv2\n",
        "import warnings\n",
        "warnings.filterwarnings('ignore')"
      ],
      "metadata": {
        "id": "akc8hIit7rbO"
      },
      "execution_count": 3,
      "outputs": []
    },
    {
      "cell_type": "code",
      "source": [
        "import tensorflow as tf\n",
        "from tensorflow.keras import models, layers, optimizers  # Added optimizers here\n",
        "from tensorflow.keras.applications import ResNet50\n",
        "from tensorflow.keras.preprocessing.image import ImageDataGenerator\n",
        "from sklearn.metrics import accuracy_score, precision_score, recall_score, f1_score\n",
        "import numpy as np"
      ],
      "metadata": {
        "id": "3HqKMg0uF6sB"
      },
      "execution_count": 4,
      "outputs": []
    },
    {
      "cell_type": "code",
      "source": [
        "# dataset_path = './chest-xray'\n",
        "dataset_path = '/content/drive/MyDrive/chest-xray'"
      ],
      "metadata": {
        "id": "UaKi-mqz7s7a"
      },
      "execution_count": 5,
      "outputs": []
    },
    {
      "cell_type": "code",
      "source": [
        "data_dir = \"/content/drive/MyDrive/chest-xray\"\n",
        "batch_size = 32\n",
        "img_height, img_width = 224, 224\n",
        "\n",
        "train_datagen = ImageDataGenerator(rescale=1./255)\n",
        "test_datagen = ImageDataGenerator(rescale=1./255)\n",
        "\n",
        "train_generator = train_datagen.flow_from_directory(\n",
        "    f\"{data_dir}/train\",\n",
        "    target_size=(img_height, img_width),\n",
        "    batch_size=batch_size,\n",
        "    class_mode='binary'\n",
        ")\n",
        "\n",
        "validation_generator = test_datagen.flow_from_directory(\n",
        "    f\"{data_dir}/val\",\n",
        "    target_size=(img_height, img_width),\n",
        "    batch_size=batch_size,\n",
        "    class_mode='binary',\n",
        "    shuffle=False\n",
        ")\n",
        "\n",
        "test_generator = test_datagen.flow_from_directory(\n",
        "    f\"{data_dir}/test\",\n",
        "    target_size=(img_height, img_width),\n",
        "    batch_size=batch_size,\n",
        "    class_mode='binary',\n",
        "    shuffle=False\n",
        ")"
      ],
      "metadata": {
        "id": "EyjsjRL3B6zs",
        "colab": {
          "base_uri": "https://localhost:8080/"
        },
        "outputId": "fb28593f-3f47-4346-f4b6-1de36c792485"
      },
      "execution_count": 6,
      "outputs": [
        {
          "output_type": "stream",
          "name": "stdout",
          "text": [
            "Found 5857 images belonging to 2 classes.\n",
            "Found 16 images belonging to 2 classes.\n",
            "Found 684 images belonging to 2 classes.\n"
          ]
        }
      ]
    },
    {
      "cell_type": "code",
      "source": [
        "def create_model(base_model):\n",
        "    model = models.Sequential([\n",
        "        base_model,\n",
        "        layers.GlobalAveragePooling2D(),\n",
        "        layers.Dense(1, activation='sigmoid')\n",
        "    ])\n",
        "    model.compile(loss='binary_crossentropy',\n",
        "                  optimizer=optimizers.Adam(),\n",
        "                  metrics=['accuracy'])\n",
        "    return model"
      ],
      "metadata": {
        "id": "E27uR_lVCDJw"
      },
      "execution_count": 7,
      "outputs": []
    },
    {
      "cell_type": "code",
      "source": [
        "base_models = [\n",
        "    (ResNet50(weights='imagenet', include_top=False, input_shape=(img_height, img_width, 3)), 'ResNet50'),\n",
        "    (InceptionV3(weights='imagenet', include_top=False, input_shape=(img_height, img_width, 3)), 'InceptionV3'),\n",
        "    (VGG16(weights='imagenet', include_top=False, input_shape=(img_height, img_width, 3)), 'VGG16'),\n",
        "    (EfficientNetB0(weights='imagenet', include_top=False, input_shape=(img_height, img_width, 3)), 'EfficientNetB0')\n",
        "]\n",
        "\n",
        "for i, (base_model, model_name) in enumerate(base_models):\n",
        "    print(f\"Training model {model_name}\")\n",
        "    model = create_model(base_model)\n",
        "    model.fit(train_generator, epochs=5, validation_data=validation_generator, verbose=2)\n",
        "\n",
        "    # Prediction\n",
        "    y_true = test_generator.classes\n",
        "    y_pred = np.round(model.predict(test_generator)).astype(int).flatten()\n",
        "\n",
        "    # Evaluation\n",
        "    accuracy = accuracy_score(y_true, y_pred)\n",
        "    precision = precision_score(y_true, y_pred)\n",
        "    recall = recall_score(y_true, y_pred)\n",
        "    f1 = f1_score(y_true, y_pred)\n",
        "\n",
        "    print(f\"Model {model_name}: Accuracy: {accuracy}, Precision: {precision}, Recall: {recall}, F1 Score: {f1}\\n\")\n"
      ],
      "metadata": {
        "id": "GMKTlOWYCJTy",
        "colab": {
          "base_uri": "https://localhost:8080/"
        },
        "outputId": "b3464151-da96-4bd6-e9d2-dde3d4f0d58b"
      },
      "execution_count": 8,
      "outputs": [
        {
          "output_type": "stream",
          "name": "stdout",
          "text": [
            "Downloading data from https://storage.googleapis.com/tensorflow/keras-applications/resnet/resnet50_weights_tf_dim_ordering_tf_kernels_notop.h5\n",
            "94765736/94765736 [==============================] - 0s 0us/step\n",
            "Downloading data from https://storage.googleapis.com/tensorflow/keras-applications/inception_v3/inception_v3_weights_tf_dim_ordering_tf_kernels_notop.h5\n",
            "87910968/87910968 [==============================] - 0s 0us/step\n",
            "Downloading data from https://storage.googleapis.com/tensorflow/keras-applications/vgg16/vgg16_weights_tf_dim_ordering_tf_kernels_notop.h5\n",
            "58889256/58889256 [==============================] - 0s 0us/step\n",
            "Downloading data from https://storage.googleapis.com/keras-applications/efficientnetb0_notop.h5\n",
            "16705208/16705208 [==============================] - 0s 0us/step\n",
            "Training model ResNet50\n",
            "Epoch 1/5\n",
            "184/184 - 1668s - loss: 0.1386 - accuracy: 0.9551 - val_loss: 53.0951 - val_accuracy: 0.5000 - 1668s/epoch - 9s/step\n",
            "Epoch 2/5\n",
            "184/184 - 81s - loss: 0.0587 - accuracy: 0.9771 - val_loss: 4.5884 - val_accuracy: 0.5000 - 81s/epoch - 438ms/step\n",
            "Epoch 3/5\n",
            "184/184 - 82s - loss: 0.0875 - accuracy: 0.9674 - val_loss: 0.9812 - val_accuracy: 0.4375 - 82s/epoch - 445ms/step\n",
            "Epoch 4/5\n",
            "184/184 - 80s - loss: 0.0884 - accuracy: 0.9706 - val_loss: 6.5949 - val_accuracy: 0.5000 - 80s/epoch - 433ms/step\n",
            "Epoch 5/5\n",
            "184/184 - 77s - loss: 0.0385 - accuracy: 0.9872 - val_loss: 1.6065 - val_accuracy: 0.5000 - 77s/epoch - 419ms/step\n",
            "22/22 [==============================] - 235s 11s/step\n",
            "Model ResNet50: Accuracy: 0.6301169590643275, Precision: 0.6295754026354319, Recall: 1.0, F1 Score: 0.7726864330637915\n",
            "\n",
            "Training model InceptionV3\n",
            "Epoch 1/5\n",
            "184/184 - 119s - loss: 0.1171 - accuracy: 0.9589 - val_loss: 0.0767 - val_accuracy: 1.0000 - 119s/epoch - 646ms/step\n",
            "Epoch 2/5\n",
            "184/184 - 73s - loss: 0.0535 - accuracy: 0.9810 - val_loss: 0.0319 - val_accuracy: 1.0000 - 73s/epoch - 396ms/step\n",
            "Epoch 3/5\n",
            "184/184 - 71s - loss: 0.0536 - accuracy: 0.9833 - val_loss: 0.8003 - val_accuracy: 0.9375 - 71s/epoch - 385ms/step\n",
            "Epoch 4/5\n",
            "184/184 - 73s - loss: 0.0366 - accuracy: 0.9874 - val_loss: 2.2492 - val_accuracy: 0.5625 - 73s/epoch - 396ms/step\n",
            "Epoch 5/5\n",
            "184/184 - 76s - loss: 0.0257 - accuracy: 0.9928 - val_loss: 0.6948 - val_accuracy: 0.6875 - 76s/epoch - 410ms/step\n",
            "22/22 [==============================] - 9s 327ms/step\n",
            "Model InceptionV3: Accuracy: 0.6535087719298246, Precision: 0.6446776611694153, Recall: 1.0, F1 Score: 0.7839562443026435\n",
            "\n",
            "Training model VGG16\n",
            "Epoch 1/5\n",
            "184/184 - 104s - loss: 0.8649 - accuracy: 0.7272 - val_loss: 0.8528 - val_accuracy: 0.5000 - 104s/epoch - 565ms/step\n",
            "Epoch 2/5\n",
            "184/184 - 80s - loss: 0.5871 - accuracy: 0.7272 - val_loss: 0.8081 - val_accuracy: 0.5000 - 80s/epoch - 435ms/step\n",
            "Epoch 3/5\n",
            "184/184 - 83s - loss: 0.4347 - accuracy: 0.7878 - val_loss: 0.5771 - val_accuracy: 0.5625 - 83s/epoch - 451ms/step\n",
            "Epoch 4/5\n",
            "184/184 - 81s - loss: 0.2149 - accuracy: 0.9095 - val_loss: 0.4600 - val_accuracy: 0.6875 - 81s/epoch - 439ms/step\n",
            "Epoch 5/5\n",
            "184/184 - 81s - loss: 0.1516 - accuracy: 0.9413 - val_loss: 0.3710 - val_accuracy: 0.8125 - 81s/epoch - 440ms/step\n",
            "22/22 [==============================] - 10s 435ms/step\n",
            "Model VGG16: Accuracy: 0.7690058479532164, Precision: 0.765625, Recall: 0.9116279069767442, F1 Score: 0.832271762208068\n",
            "\n",
            "Training model EfficientNetB0\n",
            "Epoch 1/5\n",
            "184/184 - 124s - loss: 0.1053 - accuracy: 0.9571 - val_loss: 1.2096 - val_accuracy: 0.5000 - 124s/epoch - 672ms/step\n",
            "Epoch 2/5\n",
            "184/184 - 75s - loss: 0.0437 - accuracy: 0.9840 - val_loss: 3.4578 - val_accuracy: 0.5000 - 75s/epoch - 408ms/step\n",
            "Epoch 3/5\n",
            "184/184 - 74s - loss: 0.0258 - accuracy: 0.9923 - val_loss: 1.5253 - val_accuracy: 0.5000 - 74s/epoch - 400ms/step\n",
            "Epoch 4/5\n",
            "184/184 - 76s - loss: 0.0260 - accuracy: 0.9904 - val_loss: 74.8113 - val_accuracy: 0.5000 - 76s/epoch - 415ms/step\n",
            "Epoch 5/5\n",
            "184/184 - 74s - loss: 0.0189 - accuracy: 0.9932 - val_loss: 6.4456 - val_accuracy: 0.5000 - 74s/epoch - 403ms/step\n",
            "22/22 [==============================] - 10s 336ms/step\n",
            "Model EfficientNetB0: Accuracy: 0.6286549707602339, Precision: 0.6286549707602339, Recall: 1.0, F1 Score: 0.7719928186714542\n",
            "\n"
          ]
        }
      ]
    },
    {
      "cell_type": "code",
      "source": [
        "import matplotlib.pyplot as plt\n",
        "model_names = ['ResNet50', 'InceptionV3', 'VGG16', 'EficientNetB0']\n",
        "accuracy_scores = [ 0.63011,0.6535, 0.7690, 0.6286]\n",
        "scores = accuracy_scores\n",
        "plt.figure(figsize=(7, 6))\n",
        "plt.bar(model_names, scores, color=['blue', 'green', 'red', 'purple'])\n",
        "plt.ylim(0, 1.0)\n",
        "plt.title('Model Comparison')\n",
        "plt.xlabel('Models')\n",
        "plt.ylabel('Scores')\n",
        "plt.show()"
      ],
      "metadata": {
        "colab": {
          "base_uri": "https://localhost:8080/",
          "height": 564
        },
        "id": "zZsVKQb1x9CE",
        "outputId": "ef6085a5-6a9f-4217-f08f-4a94e62284f8"
      },
      "execution_count": 10,
      "outputs": [
        {
          "output_type": "display_data",
          "data": {
            "text/plain": [
              "<Figure size 700x600 with 1 Axes>"
            ],
            "image/png": "[encoded data removed]"
          },
          "metadata": {}
        }
      ]
    }
  ]
}